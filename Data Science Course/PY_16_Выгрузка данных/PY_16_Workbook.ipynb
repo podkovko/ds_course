{
 "cells": [
  {
   "cell_type": "code",
   "execution_count": 5,
   "metadata": {},
   "outputs": [
    {
     "data": {
      "text/plain": [
       "'class'"
      ]
     },
     "metadata": {},
     "output_type": "display_data"
    }
   ],
   "source": [
    "import pandas as pd\n",
    "import json\n",
    "from pprint import pprint\n",
    "with open('/home/podkova/IDE/Data Science Course/PY_16_Выгрузка данных/data/recipes.json') as f:\n",
    "    recipes = json.load(f)\n",
    "\n",
    "\n",
    "cuisine_types = set()\n",
    "for dish in recipes:\n",
    "    cuisine_types.add(dish['cuisine'])\n",
    "cuisine_count = {cuisine: 0 for cuisine in cuisine_types}\n",
    "for dish in recipes:\n",
    "    cuisine_count[dish['cuisine']] += 1\n",
    "cuisine_count = dict(sorted(cuisine_count.items(), key=lambda item: item[1], reverse=True))\n",
    "\n",
    "df = pd.DataFrame(recipes)\n",
    "all_ingredients = list(set(ingredient for ingredients in df[\"ingredients\"] for ingredient in ingredients))\n",
    "presence_matrix = pd.DataFrame(\n",
    "    {ingredient: df[\"ingredients\"].apply(lambda x: 1 if ingredient in x else 0) for ingredient in all_ingredients}\n",
    ")\n",
    "df = pd.concat([df, presence_matrix], axis=1)\n",
    "df['ingredients'] = df['ingredients'].apply(len)\n",
    "\n",
    "import xml.etree.ElementTree as ET\n",
    "tree = ET.parse('/home/podkova/IDE/Data Science Course/PY_16_Выгрузка данных/data/menu.xml')\n",
    "root = tree.getroot()\n",
    "display(root[0][2].tag)\n"
   ]
  }
 ],
 "metadata": {
  "kernelspec": {
   "display_name": "base",
   "language": "python",
   "name": "python3"
  },
  "language_info": {
   "codemirror_mode": {
    "name": "ipython",
    "version": 3
   },
   "file_extension": ".py",
   "mimetype": "text/x-python",
   "name": "python",
   "nbconvert_exporter": "python",
   "pygments_lexer": "ipython3",
   "version": "3.12.2"
  }
 },
 "nbformat": 4,
 "nbformat_minor": 2
}
