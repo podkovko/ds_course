{
 "cells": [
  {
   "cell_type": "code",
   "execution_count": 28,
   "metadata": {},
   "outputs": [
    {
     "data": {
      "text/plain": [
       "date\n",
       "2000    10061\n",
       "2017     8198\n",
       "2007     7114\n",
       "2016     6703\n",
       "2015     6616\n",
       "2018     6418\n",
       "1996     6040\n",
       "2005     5813\n",
       "2012     4656\n",
       "2008     4351\n",
       "2009     4158\n",
       "2006     4059\n",
       "2003     4014\n",
       "2001     3922\n",
       "2002     3478\n",
       "2004     3279\n",
       "1999     2439\n",
       "2010     2301\n",
       "1997     1916\n",
       "2011     1690\n",
       "2013     1664\n",
       "2014     1439\n",
       "1998      507\n",
       "Name: count, dtype: int64"
      ]
     },
     "metadata": {},
     "output_type": "display_data"
    }
   ],
   "source": [
    "import pandas as pd\n",
    "melb_data = pd.read_csv('/home/podkova/IDE/Data Science Course/PY_12 Продвинутые методы работы с данными в Pandas/data/melb_data_fe.csv', sep=',')\n",
    "melb_df = melb_data.copy()\n",
    "melb_df['Date'] = pd.to_datetime(melb_df['Date'])\n",
    "\n",
    "movies_data = pd.read_csv('/home/podkova/IDE/Data Science Course/PY_12 Продвинутые методы работы с данными в Pandas/data/movies.csv')\n",
    "movies_df = movies_data.copy()\n",
    "\n",
    "rating_data_1 = pd.read_csv('/home/podkova/IDE/Data Science Course/PY_12 Продвинутые методы работы с данными в Pandas/data/ratings1.csv')\n",
    "rating_df_1 = rating_data_1.copy()\n",
    "\n",
    "dates_data = pd.read_csv('/home/podkova/IDE/Data Science Course/PY_12 Продвинутые методы работы с данными в Pandas/data/dates.csv')\n",
    "dates_df = dates_data.copy()\n",
    "dates_df['date'] = pd.to_datetime(dates_df['date'])\n",
    "display(dates_df['date'].dt.year.value_counts().sort_values(ascending=False))"
   ]
  }
 ],
 "metadata": {
  "kernelspec": {
   "display_name": "base",
   "language": "python",
   "name": "python3"
  },
  "language_info": {
   "codemirror_mode": {
    "name": "ipython",
    "version": 3
   },
   "file_extension": ".py",
   "mimetype": "text/x-python",
   "name": "python",
   "nbconvert_exporter": "python",
   "pygments_lexer": "ipython3",
   "version": "3.12.2"
  }
 },
 "nbformat": 4,
 "nbformat_minor": 2
}
