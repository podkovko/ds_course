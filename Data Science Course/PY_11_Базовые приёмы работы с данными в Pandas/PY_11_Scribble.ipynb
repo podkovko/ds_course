{
 "cells": [
  {
   "cell_type": "code",
   "execution_count": 21,
   "metadata": {},
   "outputs": [
    {
     "name": "stdout",
     "output_type": "stream",
     "text": [
      "<class 'pandas.core.frame.DataFrame'>\n",
      "RangeIndex: 18241 entries, 0 to 18240\n",
      "Data columns (total 5 columns):\n",
      " #   Column           Non-Null Count  Dtype \n",
      "---  ------           --------------  ----- \n",
      " 0   City             18215 non-null  object\n",
      " 1   Colors Reported  2882 non-null   object\n",
      " 2   Shape Reported   15597 non-null  object\n",
      " 3   State            18241 non-null  object\n",
      " 4   Time             18241 non-null  object\n",
      "dtypes: object(5)\n",
      "memory usage: 712.7+ KB\n"
     ]
    },
    {
     "data": {
      "text/plain": [
       "np.float64(68.92932862190813)"
      ]
     },
     "metadata": {},
     "output_type": "display_data"
    }
   ],
   "source": [
    "import pandas as pd\n",
    "ufo_sighting = pd.read_csv('/home/podkova/IDE/Data Science Course/PY_11_Базовые приёмы работы с данными в Pandas/data/ufo.csv')\n",
    "ufo_df = ufo_sighting.copy()\n",
    "ufo_df.info()\n",
    "ufo_df.head()\n",
    "ufo_df['Time'] = pd.to_datetime(ufo_df['Time'], dayfirst=False)\n",
    "most_sight = (ufo_df['Time'].dt.year).mode()[0]\n",
    "nv_df = ufo_df[ufo_df['State'] == 'NV']\n",
    "m = (((nv_df['Time'].dt.date).diff()).dt.days).mean()\n",
    "display(m)"
   ]
  }
 ],
 "metadata": {
  "kernelspec": {
   "display_name": "base",
   "language": "python",
   "name": "python3"
  },
  "language_info": {
   "codemirror_mode": {
    "name": "ipython",
    "version": 3
   },
   "file_extension": ".py",
   "mimetype": "text/x-python",
   "name": "python",
   "nbconvert_exporter": "python",
   "pygments_lexer": "ipython3",
   "version": "3.12.2"
  }
 },
 "nbformat": 4,
 "nbformat_minor": 2
}
