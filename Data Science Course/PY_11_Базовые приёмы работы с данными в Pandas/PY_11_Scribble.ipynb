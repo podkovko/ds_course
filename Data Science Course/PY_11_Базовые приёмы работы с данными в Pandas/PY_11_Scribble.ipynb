{
 "cells": [
  {
   "cell_type": "code",
   "execution_count": 57,
   "metadata": {},
   "outputs": [
    {
     "ename": "AttributeError",
     "evalue": "'Timedelta' object has no attribute 'dt'",
     "output_type": "error",
     "traceback": [
      "\u001b[0;31m---------------------------------------------------------------------------\u001b[0m",
      "\u001b[0;31mAttributeError\u001b[0m                            Traceback (most recent call last)",
      "Cell \u001b[0;32mIn[57], line 8\u001b[0m\n\u001b[1;32m      6\u001b[0m bike_df[\u001b[38;5;124m'\u001b[39m\u001b[38;5;124mage\u001b[39m\u001b[38;5;124m'\u001b[39m] \u001b[38;5;241m=\u001b[39m bike_df[\u001b[38;5;124m'\u001b[39m\u001b[38;5;124mstarttime\u001b[39m\u001b[38;5;124m'\u001b[39m]\u001b[38;5;241m.\u001b[39mdt\u001b[38;5;241m.\u001b[39myear \u001b[38;5;241m-\u001b[39m bike_df[\u001b[38;5;124m'\u001b[39m\u001b[38;5;124mbirth year\u001b[39m\u001b[38;5;124m'\u001b[39m]\n\u001b[1;32m      7\u001b[0m bike_df[\u001b[38;5;124m'\u001b[39m\u001b[38;5;124mduration\u001b[39m\u001b[38;5;124m'\u001b[39m] \u001b[38;5;241m=\u001b[39m bike_df[\u001b[38;5;124m'\u001b[39m\u001b[38;5;124mstoptime\u001b[39m\u001b[38;5;124m'\u001b[39m] \u001b[38;5;241m-\u001b[39m bike_df[\u001b[38;5;124m'\u001b[39m\u001b[38;5;124mstarttime\u001b[39m\u001b[38;5;124m'\u001b[39m]\n\u001b[0;32m----> 8\u001b[0m display(\u001b[43mbike_df\u001b[49m\u001b[43m[\u001b[49m\u001b[38;5;124;43m'\u001b[39;49m\u001b[38;5;124;43mduration\u001b[39;49m\u001b[38;5;124;43m'\u001b[39;49m\u001b[43m]\u001b[49m\u001b[43m[\u001b[49m\u001b[38;5;241;43m3\u001b[39;49m\u001b[43m]\u001b[49m\u001b[38;5;241;43m.\u001b[39;49m\u001b[43mdt\u001b[49m\u001b[38;5;241m.\u001b[39mminutes)\n\u001b[1;32m     10\u001b[0m bike_df \u001b[38;5;241m=\u001b[39m bike_df\u001b[38;5;241m.\u001b[39mdrop([\u001b[38;5;124m'\u001b[39m\u001b[38;5;124mstart station id\u001b[39m\u001b[38;5;124m'\u001b[39m, \u001b[38;5;124m'\u001b[39m\u001b[38;5;124mend station id\u001b[39m\u001b[38;5;124m'\u001b[39m], axis \u001b[38;5;241m=\u001b[39m \u001b[38;5;241m1\u001b[39m)\n\u001b[1;32m     11\u001b[0m display(bike_df\u001b[38;5;241m.\u001b[39mhead())\n",
      "\u001b[0;31mAttributeError\u001b[0m: 'Timedelta' object has no attribute 'dt'"
     ]
    }
   ],
   "source": [
    "import pandas as pd\n",
    "bike_data = pd.read_csv('/home/podkova/IDE/Data Science Course/PY_11_Базовые приёмы работы с данными в Pandas/data/citibike-tripdata.csv')\n",
    "bike_df = bike_data.copy()\n",
    "bike_df['starttime'] = pd.to_datetime(bike_df['starttime'])\n",
    "bike_df['stoptime'] = pd.to_datetime(bike_df['stoptime'])\n",
    "bike_df['age'] = bike_df['starttime'].dt.year - bike_df['birth year']\n",
    "bike_df['duration'] = bike_df['stoptime'] - bike_df['starttime']\n",
    "display(bike_df['duration'][3].dt.minutes)\n",
    "\n",
    "bike_df = bike_df.drop(['start station id', 'end station id'], axis = 1)\n",
    "display(bike_df.head())\n",
    "bike_df.info()"
   ]
  }
 ],
 "metadata": {
  "kernelspec": {
   "display_name": "base",
   "language": "python",
   "name": "python3"
  },
  "language_info": {
   "codemirror_mode": {
    "name": "ipython",
    "version": 3
   },
   "file_extension": ".py",
   "mimetype": "text/x-python",
   "name": "python",
   "nbconvert_exporter": "python",
   "pygments_lexer": "ipython3",
   "version": "3.12.2"
  }
 },
 "nbformat": 4,
 "nbformat_minor": 2
}
